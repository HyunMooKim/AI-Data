{
  "nbformat": 4,
  "nbformat_minor": 0,
  "metadata": {
    "colab": {
      "provenance": [],
      "authorship_tag": "ABX9TyOQXtMZrmkXOt5a/2xzZk/T",
      "include_colab_link": true
    },
    "kernelspec": {
      "name": "python3",
      "display_name": "Python 3"
    },
    "language_info": {
      "name": "python"
    }
  },
  "cells": [
    {
      "cell_type": "markdown",
      "metadata": {
        "id": "view-in-github",
        "colab_type": "text"
      },
      "source": [
        "<a href=\"https://colab.research.google.com/github/HyunMooKim/python-basic/blob/main/RE_data_Crawling_py.ipynb\" target=\"_parent\"><img src=\"https://colab.research.google.com/assets/colab-badge.svg\" alt=\"Open In Colab\"/></a>"
      ]
    },
    {
      "cell_type": "code",
      "execution_count": null,
      "metadata": {
        "colab": {
          "base_uri": "https://localhost:8080/"
        },
        "id": "VSyN_BBb3fae",
        "outputId": "cb55efdc-24a8-44d7-eda7-609429437506"
      },
      "outputs": [
        {
          "output_type": "stream",
          "name": "stdout",
          "text": [
            "E-mail:  ['heejo @korea.ac.kr', 'hyunwoojkim @korea.ac.kr', 'suhtw @korea.ac.kr', 'ejhoon @korea.ac.kr', 'hakjoo_oh @korea.ac.kr', 'jbhur @isslab.korea.ac.kr', 'hoh_in @korea.ac.kr', 'yuhc@korea.ac.kr', 'seungryong_kim@korea.ac.kr', 'gunjaekoo@korea.ac.kr']\n",
            "Phone Number:  ['02-3290-3208', '02-3290-4604', '02-3290-2397', '02-3290-4846', '02-3290-4601', '02-3290-4603', '02-3290-3206', '02-3290-2392', '02-3290-4608', '02-3290-4607']\n",
            "Home Page: ['https://ccs.korea.ac.kr', 'https://mlv.korea.ac.kr', 'http://esca.korea.ac.kr', 'https://sites.google.com/site/mplabku', 'http://prl.korea.ac.kr', 'https://sites.google.com/korea.ac.kr/isslab', 'https://ibel.korea.ac.kr', 'https://ds.korea.ac.kr', 'https://cvlab.korea.ac.kr', 'https://csarch.korea.ac.kr']\n"
          ]
        }
      ],
      "source": [
        "import re\n",
        "'''\n",
        "다음 사이트에서  E-mail, 전화번호, 홈페이지 정보만을 추출하는 코드\n",
        "https://sec.korea.ac.kr/sec/composition/faculty.do\n",
        "\n",
        "'''\n",
        "#before running the code, it is neccessary to upload the html file to COLAB session storage. \n",
        "#open the html file \n",
        "with open(\"probelm2.html\", \"rt\") as f:\n",
        "    html_content = f.read()\n",
        "\n",
        "#make re for each email, phone number, hompage link\n",
        "#for the email, there are some different forms of emails. \n",
        "#like \"jbhur @isslab.korea.ac.kr\". \n",
        "email=re.compile(\"\\w*@korea.ac.kr|\\w*\\s@korea.ac.kr|\\w*\\s@isslab.korea.ac.kr\")\n",
        "phone=re.compile(\"02-\\w*-\\w*\")\n",
        "link = re.compile(\"(https:|http:)+//\\w*.korea.ac.kr\")\n",
        "#for \n",
        "#https://sites.google.com/site/mplabku\n",
        "#https://sites.google.com/korea.ac.kr/isslab\n",
        "#we need this\n",
        "link2 = re.compile(r'https://sites\\.google\\.com/[\\w./-]*')\n",
        "\n",
        "\n",
        "#ouput lists\n",
        "emails = list()\n",
        "phones = list()\n",
        "links = list()\n",
        "\n",
        "#get the dl tags\n",
        "dl_content = re.findall(r\"<dl>(.*?)</dl>\",  html_content, flags=re.DOTALL)\n",
        "\n",
        "#while Loop until the end of the file. (when c == '')\n",
        "for c in dl_content:\n",
        "\n",
        "    #email check\n",
        "    ans = email.search(c)\n",
        "    if (ans != None):\n",
        "      emails.append(ans.group())\n",
        "    #phone number check\n",
        "    ans = phone.search(c)\n",
        "    if (ans != None):\n",
        "      phones.append(ans.group())    \n",
        "    #HomePage check\n",
        "    ans = link.search(c)\n",
        "    if (ans != None):\n",
        "      links.append(ans.group())     \n",
        "    ans = link2.search(c)\n",
        "    if(ans != None):\n",
        "      links.append(ans.group())           \n",
        "f.close()\n",
        "\n",
        "print('E-mail: ', emails)\n",
        "print('Phone Number: ', phones)\n",
        "print('Home Page:', links)"
      ]
    }
  ]
}