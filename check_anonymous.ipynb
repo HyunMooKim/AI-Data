{
  "nbformat": 4,
  "nbformat_minor": 0,
  "metadata": {
    "colab": {
      "provenance": [],
      "collapsed_sections": [],
      "authorship_tag": "ABX9TyNPnTYmYtMHbe6XX4fxr950",
      "include_colab_link": true
    },
    "kernelspec": {
      "name": "python3",
      "display_name": "Python 3"
    },
    "language_info": {
      "name": "python"
    }
  },
  "cells": [
    {
      "cell_type": "markdown",
      "metadata": {
        "id": "view-in-github",
        "colab_type": "text"
      },
      "source": [
        "<a href=\"https://colab.research.google.com/github/HyunMooKim/python-basic/blob/main/check_anonymous.ipynb\" target=\"_parent\"><img src=\"https://colab.research.google.com/assets/colab-badge.svg\" alt=\"Open In Colab\"/></a>"
      ]
    },
    {
      "cell_type": "code",
      "source": [
        "import pandas as pd\n",
        "\n",
        "'''\n",
        "csv파일을 받아 서로 구분이 안되는 멤버가 몇 종류나 있는지 알아보는 프로그램\n",
        "'''\n",
        "##k개 이상의 익명성을 충족하는지 확인한다\n",
        "\n",
        "df = pd.read_csv('info.csv')\n",
        "\n",
        "n = df.shape[0] #행 전체 개수\n",
        "check = list() #중복멤버 리스트\n",
        "print(df)\n",
        "##2중 반복문, whatnow로 하나씩 내려가며 \n",
        "##자신보다 아래에 check list에 없으면서 중복되는 멤버가 있다면 추가\n",
        "for i in range(0,n):\n",
        "  whatnow = df.iloc[i,0]+df.iloc[i,1]+df.iloc[i,2]\n",
        "  if( whatnow in check) == 0:\n",
        "    for j in range(i+1, n):\n",
        "      member = df.iloc[j,0]+df.iloc[j,1]+df.iloc[j,2]\n",
        "      if((whatnow == member) and ( (whatnow in check) == 0)): \n",
        "        check.append(whatnow)\n",
        "\n",
        "print('anonymous members: ',end ='')\n",
        "print(check)"
      ],
      "metadata": {
        "id": "x41ltpthO3FY",
        "colab": {
          "base_uri": "https://localhost:8080/"
        },
        "outputId": "6edb08b7-71a5-4f7b-efec-902047c0578c"
      },
      "execution_count": 36,
      "outputs": [
        {
          "output_type": "stream",
          "name": "stdout",
          "text": [
            "   GENDER  AGE MEMBER         ID\n",
            "0       M  20s      Y      kobbe\n",
            "1       M  20s      Y  jeonghoon\n",
            "2       M  20s      Y      bwipo\n",
            "3       F  30s      Y    caedrel\n",
            "4       F  30s      Y     vedius\n",
            "5       M  30s      Y        NaN\n",
            "6       M  20s      N        NaN\n",
            "7       M  20s      Y        NaN\n",
            "8       F  40s      Y        NaN\n",
            "9       F  30s      Y        NaN\n",
            "10      F  40s      Y        NaN\n",
            "11      M  30s      N        NaN\n",
            "12      M  20s      Y        NaN\n",
            "13      F  40s      Y        NaN\n",
            "anonymous members: ['M20sY', 'F30sY', 'F40sY']\n"
          ]
        }
      ]
    }
  ]
}