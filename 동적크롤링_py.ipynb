{
  "cells": [
    {
      "cell_type": "markdown",
      "metadata": {
        "id": "view-in-github",
        "colab_type": "text"
      },
      "source": [
        "<a href=\"https://colab.research.google.com/github/HyunMooKim/python-basic/blob/main/%EB%8F%99%EC%A0%81%ED%81%AC%EB%A1%A4%EB%A7%81_py.ipynb\" target=\"_parent\"><img src=\"https://colab.research.google.com/assets/colab-badge.svg\" alt=\"Open In Colab\"/></a>"
      ]
    },
    {
      "cell_type": "code",
      "execution_count": null,
      "metadata": {
        "id": "tB_jxnD43aSf"
      },
      "outputs": [],
      "source": [
        "!pip install selenium\n",
        "!apt install chromium-chromedriver"
      ]
    },
    {
      "cell_type": "code",
      "execution_count": 9,
      "metadata": {
        "colab": {
          "base_uri": "https://localhost:8080/"
        },
        "id": "kErx3O6s9Yqe",
        "outputId": "b7cef479-cc8b-43c6-a1c7-c2ba06e27878"
      },
      "outputs": [
        {
          "output_type": "stream",
          "name": "stdout",
          "text": [
            "club recommendation:  [고대대표 농구동아리 화구회]농구 진짜 좋아하고 대회 욕심 있으신 분들 계실까요~? (학번무관) 22년 아마고연전\n",
            "club recommendation:  고려대학교 중앙축구동아리 아마추어축구부 매니저 리크루팅🫵\n",
            "club recommendation:  [노코드개발학회] 🔥당신의 상상은, 현실이 된다. 그것도 빠르게, 게다다 함께.🔥🔥\n"
          ]
        }
      ],
      "source": [
        "##동적크롤링 연습을 위해 직접 고안했다.\n",
        "##고파스에 로그인해서 내가 원하는 키워드를 포함한 동아리 회원 모집이 있는지 확인하는 프로그램\n",
        "from selenium.webdriver.common.keys import Keys\n",
        "from selenium.webdriver.support.ui import WebDriverWait\n",
        "from selenium.webdriver.common.by import By\n",
        "from selenium.webdriver.support import expected_conditions as EC\n",
        "import time\n",
        "from selenium import webdriver\n",
        "from bs4 import BeautifulSoup\n",
        "\n",
        "specific_options = webdriver.ChromeOptions()\n",
        "specific_options.add_argument('--headless') \n",
        "specific_options.add_argument('--no-sandbox') \n",
        "driver = webdriver.Chrome('chromedriver', options = specific_options)\n",
        "\n",
        "##위는 그냥 옵션선택\n",
        "\n",
        "##접근하기\n",
        "driver.get('https://www.koreapas.com') #https://www.koreapas.com/bbs/main.php 이렇게 하면 안됨 이유는 잘 모르겠다.\n",
        "time.sleep(5)\n",
        "\n",
        "'''\n",
        "##로그인  -  똑같은 코드를 돌리는데 로그인이 될 때가 있고, 안 될 때가 있다... 이상하다! 인터넷 문제인가?\n",
        "id_box = driver.find_element(by=By.NAME, value='user_id')\n",
        "pw_box = driver.find_element(by=By.NAME, value='password')\n",
        "\n",
        "id_box.send_keys('아이디입력부분')\n",
        "pw_box.send_keys('비밀번호 입력부분')\n",
        "\n",
        "button = driver.find_element(by =By.XPATH, value = \"/html/body/div/div[5]/div[2]/div/table[2]/tbody/tr/td[2]/form/div/div/input\")\n",
        "button.send_keys(Keys.ENTER) #button.click()이 안되는 경우에 사용할 수 있는 코드\n",
        "time.sleep(5)\n",
        "'''\n",
        "##동아리 화면으로 이동\n",
        "button = driver.find_element(by =By.XPATH, value = '//*[@id=\"topmenu07\"]/dl/dd/ul[3]/li[5]/a')\n",
        "button.click()\n",
        "time.sleep(5)\n",
        "\n",
        "\n",
        "##정보 가져오기\n",
        "soup = BeautifulSoup(driver.page_source, 'html.parser')\n",
        "titles = soup.find_all('span', class_ = 'list_title')\n",
        "\n",
        "#정보가공\n",
        "title_list = []\n",
        "for x in titles:\n",
        "  data = x.text   \n",
        "  data = data.strip()\n",
        "  title_list.append(data)\n",
        "\n",
        "check = ['컴퓨터', '소프트웨어','축구','농구','개발', '코딩']\n",
        "\n",
        "for t in title_list:\n",
        "  for x in check:\n",
        "    if (x in t):\n",
        "      print('club recommendation: ',t)\n"
      ]
    }
  ],
  "metadata": {
    "colab": {
      "collapsed_sections": [],
      "provenance": [],
      "authorship_tag": "ABX9TyOlh/rXRS+IJVUGuBUEBc5i",
      "include_colab_link": true
    },
    "kernelspec": {
      "display_name": "Python 3",
      "name": "python3"
    },
    "language_info": {
      "name": "python"
    }
  },
  "nbformat": 4,
  "nbformat_minor": 0
}