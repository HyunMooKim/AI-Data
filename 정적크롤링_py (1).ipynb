{
  "nbformat": 4,
  "nbformat_minor": 0,
  "metadata": {
    "colab": {
      "provenance": [],
      "collapsed_sections": [],
      "toc_visible": true
    },
    "kernelspec": {
      "name": "python3",
      "display_name": "Python 3"
    },
    "language_info": {
      "name": "python"
    }
  },
  "cells": [
    {
      "cell_type": "code",
      "source": [
        "#컴프2 파이썬\n",
        "#정적 크롤링에서 가장 어려웠던 문제\n",
        "'''\n",
        "원하는 연도와 순위를 받아\n",
        "물손실관리 홈페이지로 이동해 해당 연도의 해당 순위 지역의 누수 추정량을 출력하는 프로그램\n",
        "순위 산정에서 제외해야하는 지역, 자료형의 변환 등등 까다로운 부분이 많았던 문제다.\n",
        "'''\n",
        "\n",
        "import requests\n",
        "from bs4 import BeautifulSoup\n",
        "\n",
        "url = 'https://www.waternow.go.kr/web/ssdoData/?pMENUID=8&ATTR_1=2020&ATTR_5=5'\n",
        "header_info = {'User-Agent': 'Mozilla/5.0 (Windows NT 10.0; Win64; x64) AppleWebKit/537.36 (KHTML, like Gecko) Chrome/70.0.3538.102 Safari/537.36 Edge/18.19582'}\n",
        "\n",
        "#연도와 순위 입력\n",
        "year = input()\n",
        "rank = int(input())\n",
        "\n",
        "#해당연도로 이동\n",
        "url = url.replace('2020', year)\n",
        "page = requests.get(url, header_info) \n",
        "page = page.text\n",
        "\n",
        "#정적크롤링\n",
        "soup = BeautifulSoup(page, 'html.parser')\n",
        "info = soup.find_all('td') \n",
        "\n",
        "#print(info)  해보면 온갖 정보가 다 같이 딸려온다. 필요한 정보는 각 줄당 2, 4 번째 정보(지자체, 누수추정량)\n",
        "\n",
        "need = 2\n",
        "need2 = 4\n",
        "info_list = list()\n",
        "for i in range(0,len(info)):\n",
        "  if(i == need):\n",
        "    info[i] = info[i].text\n",
        "    info_list.append(info[i])\n",
        "    need = need + 11\n",
        "  if(i == need2):\n",
        "    info[i] = info[i].text\n",
        "    info_list.append(info[i])\n",
        "    need2 = need2 + 11\n",
        "\n",
        "#숫자가 217.8    1,584.2 등의 문자열로 나타나 있다.  반점, 온점 등을 제거하여 leak_q 리스트에 넣는다.\n",
        "#이 때, 전국(지자체)와 수자원공사는 빼고 순위를 결정하므로 두개는 빼준다.\n",
        "leak_q = list()\n",
        "for i in range(1,len(info_list),2):\n",
        "  text = info_list[i]\n",
        "  text = text.replace(',', '')\n",
        "  if('.' in text ):\n",
        "    text = text[:-2]\n",
        "  info_list[i] = int(text)\n",
        "  if( info_list[i-1] != '전국(지자체)' and info_list[i-1] !='수자원공사'):\n",
        "    leak_q.append(int(text))\n",
        "\n",
        "# 순위를 찾아내 출력한다.\n",
        "leak_q.sort() #가장 큰 값이 제일 뒤로 간다.\n",
        "for i in range(1,len(info_list),2):\n",
        "  if(info_list[i] == leak_q[-rank]):\n",
        "    print(info_list[i-1])\n",
        "print(leak_q[-rank])"
      ],
      "metadata": {
        "colab": {
          "base_uri": "https://localhost:8080/"
        },
        "id": "arWqD-XLZrCA",
        "outputId": "ed75b348-11b4-482c-86d6-bb9c328d96bc"
      },
      "execution_count": null,
      "outputs": [
        {
          "output_type": "stream",
          "name": "stdout",
          "text": [
            "2008\n",
            "5\n",
            "경상북도\n",
            "85\n"
          ]
        }
      ]
    }
  ]
}